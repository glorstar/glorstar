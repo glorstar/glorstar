{
  "nbformat": 4,
  "nbformat_minor": 0,
  "metadata": {
    "colab": {
      "provenance": [],
      "include_colab_link": true
    },
    "kernelspec": {
      "name": "python3",
      "display_name": "Python 3"
    },
    "language_info": {
      "name": "python"
    }
  },
  "cells": [
    {
      "cell_type": "markdown",
      "metadata": {
        "id": "view-in-github",
        "colab_type": "text"
      },
      "source": [
        "<a href=\"https://colab.research.google.com/github/glorstar/glorstar/blob/main/Copia_de_Ej_Gloria_Algoritmos_y_Computaci%C3%B3n.ipynb\" target=\"_parent\"><img src=\"https://colab.research.google.com/assets/colab-badge.svg\" alt=\"Open In Colab\"/></a>"
      ]
    },
    {
      "cell_type": "code",
      "execution_count": null,
      "metadata": {
        "id": "s2EvR57RdTiG",
        "colab": {
          "base_uri": "https://localhost:8080/"
        },
        "outputId": "ab7d41af-8d53-46e4-87b2-8d71377ee527"
      },
      "outputs": [
        {
          "output_type": "stream",
          "name": "stdout",
          "text": [
            "La suma de los números pares en la lista es: 30\n",
            "El área del círculo con radio 5.0 es: 78.53981633974483\n",
            "25.0 grados Celsius equivalen a 77.0 grados Fahrenheit.\n",
            "Conteo de vocales en el texto:\n",
            "a: 5\n",
            "e: 6\n",
            "i: 0\n",
            "o: 2\n",
            "u: 1\n",
            "3 está presente en la lista.\n",
            "El factorial de 5 es: 120\n",
            "Lista ordenada: [1, 2, 5, 5, 6, 9]\n",
            "La oración tiene 6 palabras.\n",
            "'reconocer' es un palíndromo.\n",
            "El promedio de las calificaciones es: 86.6\n"
          ]
        }
      ],
      "source": [
        "# EJERCICIOS\n",
        "\n",
        "\"\"\"1.-Suma de números pares:\n",
        "  Una lista de números enteros. Escribir una función que sume todos los números pares de la lista y devuelva la suma.\n",
        "\"\"\"\n",
        "def suma_numeros_pares(lista):\n",
        "    suma = 0\n",
        "    for numero in lista:\n",
        "        if numero % 2 == 0:\n",
        "            suma += numero\n",
        "    return suma\n",
        "\n",
        "# Ejemplo:\n",
        "numeros = [1, 2, 3, 4, 5, 6, 7, 8, 9, 10]\n",
        "resultado = suma_numeros_pares(numeros)\n",
        "print(\"La suma de los números pares en la lista es:\", resultado)\n",
        "# La suma de los números pares en la lista es: 30\n",
        "\n",
        "\n",
        "\"\"\"2.-Cálculo del área de un círculo:\n",
        "  El radio de un círculo. Escribir una función que calcule el área del círculo y la devuelva.\n",
        "\"\"\"\n",
        "import math\n",
        "\n",
        "def calcular_area_circulo(radio):\n",
        "    if radio < 0:\n",
        "        return \"El radio no puede ser negativo\"\n",
        "    else:\n",
        "        area = math.pi * radio**2\n",
        "        return area\n",
        "\n",
        "# Ejemplo:\n",
        "radio = 5.0\n",
        "area_del_circulo = calcular_area_circulo(radio)\n",
        "print(f\"El área del círculo con radio {radio} es: {area_del_circulo}\")\n",
        "\n",
        "\n",
        "\"\"\"3.-Conversión de Celsius a Fahrenheit:\n",
        "  Una temperatura en grados Celsius. Escribir una función que convierta la temperatura de Celsius a Fahrenheit y devuelva el resultado.\n",
        "\"\"\"\n",
        "def celsius_a_fahrenheit(celsius):\n",
        "    fahrenheit = (celsius * 9/5) + 32\n",
        "    return fahrenheit\n",
        "\n",
        "# Ejemplo:\n",
        "temperatura_celsius = 25.0\n",
        "temperatura_fahrenheit = celsius_a_fahrenheit(temperatura_celsius)\n",
        "print(f\"{temperatura_celsius} grados Celsius equivalen a {temperatura_fahrenheit} grados Fahrenheit.\")\n",
        "# 25.0 grados Celsius equivalen a 77.0 grados Fahrenheit.\n",
        "\n",
        "\n",
        "\"\"\"4.-Cuenta las vocales:\n",
        "  Una cadena de texto. Escribir una función que cuente cuántas vocales (a, e, i, o, u) hay en la cadena.\n",
        "\"\"\"\n",
        "def contar_vocales(cadena):\n",
        "    #Inicializamos un contador para cada vocal a 0\n",
        "    conteo_a = conteo_e = conteo_i = conteo_o = conteo_u = 0\n",
        "    #Convertimos la cadena a minúsculas para asegurarnos de contar todas las ocurrencias\n",
        "    cadena = cadena.lower()\n",
        "    #Recorremos la cadena y contamos las vocales\n",
        "    for letra in cadena:\n",
        "        if letra == 'a':\n",
        "            conteo_a += 1\n",
        "        elif letra == 'e':\n",
        "            conteo_e += 1\n",
        "        elif letra == 'i':\n",
        "            conteo_i += 1\n",
        "        elif letra == 'o':\n",
        "            conteo_o += 1\n",
        "        elif letra == 'u':\n",
        "            conteo_u += 1\n",
        "    #Devolvemos un diccionario con el conteo de cada vocal\n",
        "    return {\n",
        "        'a': conteo_a,\n",
        "        'e': conteo_e,\n",
        "        'i': conteo_i,\n",
        "        'o': conteo_o,\n",
        "        'u': conteo_u\n",
        "    }\n",
        "\n",
        "# Ejemplo:\n",
        "texto = \"Hola, esta es una cadena de ejemplo.\"\n",
        "resultado = contar_vocales(texto)\n",
        "print(\"Conteo de vocales en el texto:\")\n",
        "for vocal, conteo in resultado.items():\n",
        "    print(f\"{vocal}: {conteo}\")\n",
        "\n",
        "\n",
        "\"\"\"5.-Buscar elemento en una lista:\n",
        "  Una lista de números y un número objetivo. Escribir una función que busque si el número objetivo está presente en la lista y devuelva Verdadero o Falso.\n",
        "\"\"\"\n",
        "def buscar_numero_en_lista(lista, objetivo):\n",
        "    for numero in lista:\n",
        "        if numero == objetivo:\n",
        "            return True\n",
        "    return False\n",
        "\n",
        "# Ejemplo:\n",
        "numeros = [1, 2, 3, 4, 5]\n",
        "objetivo = 3\n",
        "resultado = buscar_numero_en_lista(numeros, objetivo)\n",
        "\n",
        "if resultado:\n",
        "    print(f\"{objetivo} está presente en la lista.\")\n",
        "else:\n",
        "    print(f\"{objetivo} no está presente en la lista.\")\n",
        "\n",
        "\n",
        "\"\"\"6.-Factorial de un número:\n",
        " Un número entero. Escribir una función que calcule el factorial del número y lo devuelva.\n",
        "\"\"\"\n",
        "# Usando una función recursiva:\n",
        "def factorial_recursivo(n):\n",
        "    if n == 0:\n",
        "        return 1\n",
        "    else:\n",
        "        return n * factorial_recursivo(n - 1)\n",
        "\n",
        "# Ejemplo:\n",
        "numero = 5\n",
        "resultado = factorial_recursivo(numero)\n",
        "print(f\"El factorial de {numero} es: {resultado}\")\n",
        "\n",
        "\n",
        "\"\"\"7.-Ordenar una lista:\n",
        "  Una lista de números desordenados. Escribir una función que ordene la lista en orden ascendente y la devuelva.\n",
        "\"\"\"\n",
        "# Usando el método sort:\n",
        "def ordenar_lista(lista):\n",
        "    lista.sort()\n",
        "\n",
        "# Ejemplo:\n",
        "numeros_desordenados = [5, 2, 9, 1, 5, 6]\n",
        "ordenar_lista(numeros_desordenados)\n",
        "print(\"Lista ordenada:\", numeros_desordenados)\n",
        "\n",
        "\n",
        "\"\"\"8.-Contar palabras en una oración:\n",
        "  Una oración (cadena de texto). Escribir una función que cuente cuántas palabras hay en la oración.\n",
        "\"\"\"\n",
        "# Utilizando el método split:\n",
        "def contar_palabras(oracion):\n",
        "    # Divide la oración en palabras usando espacio como separador\n",
        "    palabras = oracion.split()\n",
        "    # Cuenta el número de palabras en la lista resultante\n",
        "    cantidad_palabras = len(palabras)\n",
        "    return cantidad_palabras\n",
        "\n",
        "oracion = \"Esta es una oración de ejemplo.\"\n",
        "cantidad = contar_palabras(oracion)\n",
        "print(f\"La oración tiene {cantidad} palabras.\")\n",
        "\n",
        "\n",
        "\"\"\"9.-Verificar si una palabra es un palíndromo:\n",
        "  Una palabra (cadena de texto).  Escribir una función que verifique si la palabra es un palíndromo (se lee igual de izquierda a derecha y de derecha a izquierda) y devuelva Verdadero o Falso.\n",
        "\"\"\"\n",
        "def es_palindromo(palabra):\n",
        "    # Eliminamos espacios en blanco y convertimos a minúsculas para hacer la comparación insensible a mayúsculas/minúsculas\n",
        "    palabra = palabra.replace(\" \", \"\").lower()\n",
        "    # Comparamos la palabra original con su reverso\n",
        "    return palabra == palabra[::-1]\n",
        "\n",
        "# Ejemplo:\n",
        "palabra = \"reconocer\"\n",
        "resultado = es_palindromo(palabra)\n",
        "if resultado:\n",
        "    print(f\"'{palabra}' es un palíndromo.\")\n",
        "else:\n",
        "    print(f\"'{palabra}' no es un palíndromo.\")\n",
        "\n",
        "\n",
        "\"\"\"10.-Cálculo del promedio de una lista de calificaciones:\n",
        "  Una lista de calificaciones. Escribir una función que calcule el promedio de las calificaciones y lo devuelva.\n",
        "\"\"\"\n",
        "def calcular_promedio(calificaciones):\n",
        "    if len(calificaciones) == 0:\n",
        "        return 0  # Devuelve 0 si la lista de calificaciones está vacía para evitar una división por cero.\n",
        "    suma_calificaciones = sum(calificaciones)\n",
        "    promedio = suma_calificaciones / len(calificaciones)\n",
        "    return promedio\n",
        "\n",
        "# Ejemplo:\n",
        "calificaciones = [85, 92, 78, 90, 88]\n",
        "promedio = calcular_promedio(calificaciones)\n",
        "print(f\"El promedio de las calificaciones es: {promedio}\")\n",
        "# El promedio de caificaciones es: 362,6\n",
        "\n"
      ]
    },
    {
      "cell_type": "code",
      "source": [
        "# Caso de prueba 1: Lista con números pares\n",
        "numeros1 = [2, 4, 6, 8, 10]\n",
        "resultado1 = suma_numeros_pares(numeros1)\n",
        "print(\"Ejercicio 1 - Caso 1:\", \"Éxito\" if resultado1 == 30 else \"Fallo\")\n",
        "\n",
        "# Caso de prueba 2: Lista con números impares\n",
        "numeros2 = [1, 3, 5, 7, 9]\n",
        "resultado2 = suma_numeros_pares(numeros2)\n",
        "print(\"Ejercicio 1 - Caso 2:\", \"Éxito\" if resultado2 == 0 else \"Fallo\")\n",
        "\n",
        "# Caso de prueba 3: Lista vacía\n",
        "numeros3 = []\n",
        "resultado3 = suma_numeros_pares(numeros3)\n",
        "print(\"Ejercicio 1 - Caso 3:\", \"Éxito\" if resultado3 == 0 else \"Fallo\")\n"
      ],
      "metadata": {
        "colab": {
          "base_uri": "https://localhost:8080/"
        },
        "id": "X0oQ-X4mwddt",
        "outputId": "b7cfd800-291b-4222-f05d-16a2f568a17e"
      },
      "execution_count": null,
      "outputs": [
        {
          "output_type": "stream",
          "name": "stdout",
          "text": [
            "Ejercicio 1 - Caso 1: Éxito\n",
            "Ejercicio 1 - Caso 2: Éxito\n",
            "Ejercicio 1 - Caso 3: Éxito\n"
          ]
        }
      ]
    },
    {
      "cell_type": "code",
      "source": [
        "# Caso de prueba 1: Radio positivo\n",
        "radio1 = 5.0\n",
        "area1 = calcular_area_circulo(radio1)\n",
        "print(\"Ejercicio 2 - Caso 1:\", \"Éxito\" if area1 == 78.53981633974483 else \"Fallo\")\n",
        "\n",
        "# Caso de prueba 2: Radio negativo\n",
        "radio2 = -3.0\n",
        "area2 = calcular_area_circulo(radio2)\n",
        "print(\"Ejercicio 2 - Caso 2:\", \"Éxito\" if area2 == \"El radio no puede ser negativo\" else \"Fallo\")\n",
        "\n",
        "# Caso de prueba 3: Radio igual a cero\n",
        "radio3 = 0.0\n",
        "area3 = calcular_area_circulo(radio3)\n",
        "print(\"Ejercicio 2 - Caso 3:\", \"Éxito\" if area3 == 0.0 else \"Fallo\")\n"
      ],
      "metadata": {
        "colab": {
          "base_uri": "https://localhost:8080/"
        },
        "id": "505r7KI5wlda",
        "outputId": "e01d5960-3718-42ba-90b4-9575a2b26efc"
      },
      "execution_count": null,
      "outputs": [
        {
          "output_type": "stream",
          "name": "stdout",
          "text": [
            "Ejercicio 2 - Caso 1: Éxito\n",
            "Ejercicio 2 - Caso 2: Éxito\n",
            "Ejercicio 2 - Caso 3: Éxito\n"
          ]
        }
      ]
    },
    {
      "cell_type": "code",
      "source": [
        "# Caso de prueba 1: Temperatura en grados Celsius\n",
        "temperatura_celsius1 = 25.0\n",
        "temperatura_fahrenheit1 = celsius_a_fahrenheit(temperatura_celsius1)\n",
        "print(\"Ejercicio 3 - Caso 1:\", \"Éxito\" if temperatura_fahrenheit1 == 77.0 else \"Fallo\")\n",
        "\n",
        "# Caso de prueba 2: Temperatura en grados Celsius negativos\n",
        "temperatura_celsius2 = -10.0\n",
        "temperatura_fahrenheit2 = celsius_a_fahrenheit(temperatura_celsius2)\n",
        "print(\"Ejercicio 3 - Caso 2:\", \"Éxito\" if temperatura_fahrenheit2 == 14.0 else \"Fallo\")\n",
        "\n",
        "# Caso de prueba 3: Temperatura en grados Celsius con decimales\n",
        "temperatura_celsius3 = 37.5\n",
        "temperatura_fahrenheit3 = celsius_a_fahrenheit(temperatura_celsius3)\n",
        "print(\"Ejercicio 3 - Caso 3:\", \"Éxito\" if temperatura_fahrenheit3 == 99.5 else \"Fallo\")\n"
      ],
      "metadata": {
        "colab": {
          "base_uri": "https://localhost:8080/"
        },
        "id": "YbuS0UlEwpkN",
        "outputId": "8cef4e18-4b76-4979-e28f-f96760537985"
      },
      "execution_count": null,
      "outputs": [
        {
          "output_type": "stream",
          "name": "stdout",
          "text": [
            "Ejercicio 3 - Caso 1: Éxito\n",
            "Ejercicio 3 - Caso 2: Éxito\n",
            "Ejercicio 3 - Caso 3: Éxito\n"
          ]
        }
      ]
    },
    {
      "cell_type": "code",
      "source": [
        "# Caso de prueba 1: Conteo de vocales en una cadena\n",
        "texto1 = \"Hola, esta es una cadena de ejemplo.\"\n",
        "resultado1 = contar_vocales(texto1)\n",
        "print(\"Ejercicio 4 - Caso 1:\", \"Éxito\" if resultado1 == {'a': 5, 'e': 6, 'i': 0, 'o': 2, 'u': 1} else \"Fallo\")\n",
        "\n",
        "# Caso de prueba 2: Conteo de vocales en una cadena vacía\n",
        "texto2 = \"\"\n",
        "resultado2 = contar_vocales(texto2)\n",
        "print(\"Ejercicio 4 - Caso 2:\", \"Éxito\" if resultado2 == {'a': 0, 'e': 0, 'i': 0, 'o': 0, 'u': 0} else \"Fallo\")\n",
        "\n",
        "# Caso de prueba 3: Conteo de vocales en una cadena sin vocales\n",
        "texto3 = \"TntgThplnc\"\n",
        "resultado3 = contar_vocales(texto3)\n",
        "print(\"Ejercicio 4 - Caso 3:\", \"Éxito\" if resultado3 == {'a': 0, 'e': 0, 'i': 0, 'o': 0, 'u': 0} else \"Fallo\")\n"
      ],
      "metadata": {
        "colab": {
          "base_uri": "https://localhost:8080/"
        },
        "id": "Sv-m1BBswu4x",
        "outputId": "03fd27cf-4978-4262-e8f6-51f9678d8ca9"
      },
      "execution_count": null,
      "outputs": [
        {
          "output_type": "stream",
          "name": "stdout",
          "text": [
            "Ejercicio 4 - Caso 1: Éxito\n",
            "Ejercicio 4 - Caso 2: Éxito\n",
            "Ejercicio 4 - Caso 3: Éxito\n"
          ]
        }
      ]
    },
    {
      "cell_type": "code",
      "source": [
        "# Caso de prueba 1: Número objetivo presente en la lista\n",
        "numeros1 = [1, 2, 3, 4, 5]\n",
        "objetivo1 = 3\n",
        "resultado1 = buscar_numero_en_lista(numeros1, objetivo1)\n",
        "print(\"Ejercicio 5 - Caso 1:\", \"Éxito\" if resultado1 else \"Fallo\")\n",
        "\n",
        "# Caso de prueba 2: Número objetivo no presente en la lista\n",
        "numeros2 = [10, 20, 30, 40, 50]\n",
        "objetivo2 = 15\n",
        "resultado2 = buscar_numero_en_lista(numeros2, objetivo2)\n",
        "print(\"Ejercicio 5 - Caso 2:\", \"Éxito\" if not resultado2 else \"Fallo\")\n",
        "\n",
        "# Caso de prueba 3: Lista vacía\n",
        "numeros3 = []\n",
        "objetivo3 = 42\n",
        "resultado3 = buscar_numero_en_lista(numeros3, objetivo3)\n",
        "print(\"Ejercicio 5 - Caso 3:\", \"Éxito\" if not resultado3 else \"Fallo\")\n"
      ],
      "metadata": {
        "colab": {
          "base_uri": "https://localhost:8080/"
        },
        "id": "UYI7KZE2xPB2",
        "outputId": "65d1be01-1bd3-4973-d306-d2d9e08cc38f"
      },
      "execution_count": null,
      "outputs": [
        {
          "output_type": "stream",
          "name": "stdout",
          "text": [
            "Ejercicio 5 - Caso 1: Éxito\n",
            "Ejercicio 5 - Caso 2: Éxito\n",
            "Ejercicio 5 - Caso 3: Éxito\n"
          ]
        }
      ]
    },
    {
      "cell_type": "code",
      "source": [
        "# Caso de prueba 1: Factorial de un número positivo\n",
        "numero1 = 5\n",
        "resultado1 = factorial_recursivo(numero1)\n",
        "print(\"Ejercicio 6 - Caso 1:\", \"Éxito\" if resultado1 == 120 else \"Fallo\")\n",
        "\n",
        "# Caso de prueba 2: Factorial de cero\n",
        "numero2 = 0\n",
        "resultado2 = factorial_recursivo(numero2)\n",
        "print(\"Ejercicio 6 - Caso 2:\", \"Éxito\" if resultado2 == 1 else \"Fallo\")\n",
        "\n",
        "# Caso de prueba 3: Factorial de un número negativo (no definido)\n",
        "numero3 = 0\n",
        "resultado3 = factorial_recursivo(numero3)\n",
        "print(\"Ejercicio 6 - Caso 3:\", \"Éxito\" if resultado3 == 1 else \"Fallo\")\n"
      ],
      "metadata": {
        "colab": {
          "base_uri": "https://localhost:8080/"
        },
        "id": "bTJOL0yvxSBf",
        "outputId": "16ed9044-c41b-4cb9-b178-fe324eb7c6eb"
      },
      "execution_count": null,
      "outputs": [
        {
          "output_type": "stream",
          "name": "stdout",
          "text": [
            "Ejercicio 6 - Caso 1: Éxito\n",
            "Ejercicio 6 - Caso 2: Éxito\n",
            "Ejercicio 6 - Caso 3: Éxito\n"
          ]
        }
      ]
    },
    {
      "cell_type": "code",
      "source": [
        "# Caso de prueba 1: Lista de números desordenados\n",
        "numeros_desordenados1 = [5, 2, 9, 1, 5, 6]\n",
        "ordenar_lista(numeros_desordenados1)\n",
        "print(\"Ejercicio 7 - Caso 1:\", \"Éxito\" if numeros_desordenados1 == [1, 2, 5, 5, 6, 9] else \"Fallo\")\n",
        "\n",
        "# Caso de prueba 2: Lista de números ya ordenados\n",
        "numeros_desordenados2 = [1, 2, 3, 4, 5]\n",
        "ordenar_lista(numeros_desordenados2)\n",
        "print(\"Ejercicio 7 - Caso 2:\", \"Éxito\" if numeros_desordenados2 == [1, 2, 3, 4, 5] else \"Fallo\")\n",
        "\n",
        "# Caso de prueba 3: Lista vacía\n",
        "numeros_desordenados3 = []\n",
        "ordenar_lista(numeros_desordenados3)\n",
        "print(\"Ejercicio 7 - Caso 3:\", \"Éxito\" if numeros_desordenados3 == [] else \"Fallo\")\n"
      ],
      "metadata": {
        "colab": {
          "base_uri": "https://localhost:8080/"
        },
        "id": "kgVORSGxxh2A",
        "outputId": "5519ac15-3107-4e5a-a351-d1889a6bd3ab"
      },
      "execution_count": null,
      "outputs": [
        {
          "output_type": "stream",
          "name": "stdout",
          "text": [
            "Ejercicio 7 - Caso 1: Éxito\n",
            "Ejercicio 7 - Caso 2: Éxito\n",
            "Ejercicio 7 - Caso 3: Éxito\n"
          ]
        }
      ]
    },
    {
      "cell_type": "code",
      "source": [
        "# Caso de prueba 1: Oración con varias palabras\n",
        "oracion1 = \"Esta es una oración de prueba.\"\n",
        "resultado1 = contar_palabras(oracion1)\n",
        "print(\"Ejercicio 8 - Caso 1:\", \"Éxito\" if resultado1 == 6 else \"Fallo\")\n",
        "\n",
        "# Caso de prueba 2: Oración vacía\n",
        "oracion2 = \"\"\n",
        "resultado2 = contar_palabras(oracion2)\n",
        "print(\"Ejercicio 8 - Caso 2:\", \"Éxito\" if resultado2 == 0 else \"Fallo\")\n",
        "\n",
        "# Caso de prueba 3: Oración con una sola palabra\n",
        "oracion3 = \"Palabra\"\n",
        "resultado3 = contar_palabras(oracion3)\n",
        "print(\"Ejercicio 8 - Caso 3:\", \"Éxito\" if resultado3 == 1 else \"Fallo\")\n"
      ],
      "metadata": {
        "colab": {
          "base_uri": "https://localhost:8080/"
        },
        "id": "Sak9IOXyxzYo",
        "outputId": "c9d0e99e-a5b5-4db2-dc88-b777d46ab920"
      },
      "execution_count": null,
      "outputs": [
        {
          "output_type": "stream",
          "name": "stdout",
          "text": [
            "Ejercicio 8 - Caso 1: Éxito\n",
            "Ejercicio 8 - Caso 2: Éxito\n",
            "Ejercicio 8 - Caso 3: Éxito\n"
          ]
        }
      ]
    },
    {
      "cell_type": "code",
      "source": [
        "# Caso de prueba 1: Palabra palíndromo\n",
        "palabra1 = \"reconocer\"\n",
        "resultado1 = es_palindromo(palabra1)\n",
        "print(\"Ejercicio 9 - Caso 1:\", \"Éxito\" if resultado1 else \"Fallo\")\n",
        "\n",
        "# Caso de prueba 2: Palabra no palíndromo\n",
        "palabra2 = \"python\"\n",
        "resultado2 = es_palindromo(palabra2)\n",
        "print(\"Ejercicio 9 - Caso 2:\", \"Éxito\" if not resultado2 else \"Fallo\")\n",
        "\n",
        "# Caso de prueba 3: Palabra palíndromo con mayúsculas y espacios\n",
        "palabra3 = \"Anita lava la tina\"\n",
        "resultado3 = es_palindromo(palabra3)\n",
        "print(\"Ejercicio 9 - Caso 3:\", \"Éxito\" if resultado3 else \"Fallo\")\n"
      ],
      "metadata": {
        "colab": {
          "base_uri": "https://localhost:8080/"
        },
        "id": "AcT63XaQx0tg",
        "outputId": "8d5e2de4-46d1-42d5-c7a3-b914a00455ba"
      },
      "execution_count": null,
      "outputs": [
        {
          "output_type": "stream",
          "name": "stdout",
          "text": [
            "Ejercicio 9 - Caso 1: Éxito\n",
            "Ejercicio 9 - Caso 2: Éxito\n",
            "Ejercicio 9 - Caso 3: Éxito\n"
          ]
        }
      ]
    },
    {
      "cell_type": "code",
      "source": [
        "# Caso de prueba 1: Lista de calificaciones no vacía\n",
        "calificaciones1 = [85, 92, 78, 90, 88]\n",
        "resultado1 = calcular_promedio(calificaciones1)\n",
        "print(\"Ejercicio 10 - Caso 1:\", \"Éxito\" if resultado1 == 86.6 else \"Fallo\")\n",
        "\n",
        "# Caso de prueba 2: Lista de calificaciones vacía\n",
        "calificaciones2 = []\n",
        "resultado2 = calcular_promedio(calificaciones2)\n",
        "print(\"Ejercicio 10 - Caso 2:\", \"Éxito\" if resultado2 == 0 else \"Fallo\")\n",
        "\n",
        "# Caso de prueba 3: Lista de calificaciones con un solo elemento\n",
        "calificaciones3 = [100]\n",
        "resultado3 = calcular_promedio(calificaciones3)\n",
        "print(\"Ejercicio 10 - Caso 3:\", \"Éxito\" if resultado3 == 100.0 else \"Fallo\")\n"
      ],
      "metadata": {
        "colab": {
          "base_uri": "https://localhost:8080/"
        },
        "id": "mhKZcSCax4k5",
        "outputId": "1981bcac-ee37-489c-abed-cd15e7f7ce09"
      },
      "execution_count": null,
      "outputs": [
        {
          "output_type": "stream",
          "name": "stdout",
          "text": [
            "Ejercicio 10 - Caso 1: Éxito\n",
            "Ejercicio 10 - Caso 2: Éxito\n",
            "Ejercicio 10 - Caso 3: Éxito\n"
          ]
        }
      ]
    },
    {
      "cell_type": "markdown",
      "source": [
        "Muy bien. **Nota:** 10"
      ],
      "metadata": {
        "id": "kpXJ2jGjx8Ha"
      }
    }
  ]
}